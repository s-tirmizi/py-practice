{
 "cells": [
  {
   "cell_type": "markdown",
   "metadata": {},
   "source": [
    "# KD Tree"
   ]
  },
  {
   "cell_type": "markdown",
   "metadata": {},
   "source": [
    "A KD-Tree (k-dimensional tree) is a data structure that can be used to efficiently search for nearest neighbors in multidimensional space."
   ]
  },
  {
   "cell_type": "code",
   "execution_count": 2,
   "metadata": {},
   "outputs": [],
   "source": [
    "import numpy as np \n",
    "from scipy.spatial import KDTree"
   ]
  },
  {
   "cell_type": "markdown",
   "metadata": {},
   "source": [
    "- **KDTree creation:** The KDTree is built using an array of points. Each point is represented as a vector of coordinates.\n",
    "\n",
    "- **Query:** We query the KDTree for the nearest neighbor to the point [2, 3]. The .query() method returns the distance to the nearest neighbor and the index of that neighbor in the original points array."
   ]
  },
  {
   "cell_type": "markdown",
   "metadata": {},
   "source": [
    "### Search for the nearest neighbor of a given point"
   ]
  },
  {
   "cell_type": "code",
   "execution_count": 7,
   "metadata": {},
   "outputs": [
    {
     "name": "stdout",
     "output_type": "stream",
     "text": [
      "The nearest neighbor to [2, 3] is at index 1, and the distance is 1.4142135623730951\n"
     ]
    }
   ],
   "source": [
    "points = np.array([[3,6], [3,4], [5,6],[7,8]])\n",
    "tree = KDTree(points)\n",
    "\n",
    "query_point = [2,3]\n",
    "\n",
    "distance, index = tree.query(query_point)\n",
    "\n",
    "print(f\"The nearest neighbor to {query_point} is at index {index}, and the distance is {distance}\")"
   ]
  },
  {
   "cell_type": "markdown",
   "metadata": {},
   "source": [
    "### Find all points in a particular radius of a specific point"
   ]
  },
  {
   "cell_type": "code",
   "execution_count": 8,
   "metadata": {},
   "outputs": [
    {
     "name": "stdout",
     "output_type": "stream",
     "text": [
      "Points within radius 3.0 of [2, 3]:\n",
      "[[1 2]\n",
      " [3 4]]\n"
     ]
    }
   ],
   "source": [
    "points = np.array([[1, 2], [3, 4], [5, 6], [7, 8], [9, 10]])\n",
    "\n",
    "tree = KDTree(points)\n",
    "\n",
    "query_point = [2, 3]\n",
    "radius = 3.0\n",
    "\n",
    "indices_within_radius = tree.query_ball_point(query_point, radius)\n",
    "\n",
    "points_within_radius = points[indices_within_radius]\n",
    "\n",
    "print(f\"Points within radius {radius} of {query_point}:\")\n",
    "print(points_within_radius)"
   ]
  },
  {
   "cell_type": "markdown",
   "metadata": {},
   "source": [
    "Additional Information:<br>\n",
    "You can also search for points using different distance metrics, by specifying them in the p parameter of query_ball_point, such as:\n",
    "\n",
    "- p=2: Euclidean distance (default)\n",
    "- p=1: Manhattan distance (L1 norm)\n",
    "- p=∞: Maximum coordinate difference (Chebyshev distance)"
   ]
  },
  {
   "cell_type": "markdown",
   "metadata": {},
   "source": [
    "### Find the indices of points within a particular radius for all points"
   ]
  },
  {
   "cell_type": "code",
   "execution_count": 13,
   "metadata": {},
   "outputs": [
    {
     "name": "stdout",
     "output_type": "stream",
     "text": [
      "Families of indices within radius: \n",
      "[list([1]) list([0, 2]) list([1, 3]) list([2, 4]) list([3])]\n",
      "\n",
      "Families of points within radius: \n",
      "[[3 4]]\n",
      "[[1 2]\n",
      " [5 6]]\n",
      "[[3 4]\n",
      " [7 8]]\n",
      "[[ 5  6]\n",
      " [ 9 10]]\n",
      "[[7 8]]\n"
     ]
    }
   ],
   "source": [
    "points = np.array([[1, 2], [3, 4], [5, 6], [7, 8], [9, 10]])\n",
    "\n",
    "tree = KDTree(points)\n",
    "\n",
    "radius = 3\n",
    "\n",
    "families_indices = []\n",
    "families_points = []\n",
    "\n",
    "# Go through all points in points\n",
    "for i, point in enumerate(points):\n",
    "\n",
    "    #Find indices of all points within the given radius for each point\n",
    "    indices_within_radius = tree.query_ball_point(point, radius)\n",
    "    \n",
    "    #Remove the index of the point itself from the list\n",
    "    indices_within_radius = [idx for idx in indices_within_radius if idx != i]\n",
    "\n",
    "    #Append the indices of the family (including the point itself)\n",
    "    families_indices.append(indices_within_radius)\n",
    "\n",
    "    #Append the family points themselves to the families array\n",
    "    family_points = points[indices_within_radius]\n",
    "    families_points.append(family_points)\n",
    "\n",
    "families_indices = np.array(families_indices, dtype=object)\n",
    "families_points = np.array(families_points, dtype=object)\n",
    "\n",
    "print(\"Families of indices within radius: \")\n",
    "print(families_indices)\n",
    "\n",
    "print(\"\\nFamilies of points within radius: \")\n",
    "for family in families_points:\n",
    "    print(family)"
   ]
  },
  {
   "cell_type": "code",
   "execution_count": null,
   "metadata": {},
   "outputs": [],
   "source": []
  }
 ],
 "metadata": {
  "kernelspec": {
   "display_name": "base",
   "language": "python",
   "name": "python3"
  },
  "language_info": {
   "codemirror_mode": {
    "name": "ipython",
    "version": 3
   },
   "file_extension": ".py",
   "mimetype": "text/x-python",
   "name": "python",
   "nbconvert_exporter": "python",
   "pygments_lexer": "ipython3",
   "version": "3.9.7"
  }
 },
 "nbformat": 4,
 "nbformat_minor": 2
}
