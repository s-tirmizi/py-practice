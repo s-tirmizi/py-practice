{
 "cells": [
  {
   "cell_type": "markdown",
   "metadata": {},
   "source": [
    "# Animating Scatter Plots in Matplotlib"
   ]
  },
  {
   "cell_type": "markdown",
   "metadata": {},
   "source": [
    "Source: https://www.geeksforgeeks.org/animating-scatter-plots-in-matplotlib/ <br>\n",
    "Code is modified to show the animation inside the notebook instead of saving it as a separate .mp4 video file. "
   ]
  },
  {
   "cell_type": "markdown",
   "metadata": {},
   "source": [
    "An animated scatter plot is a dynamic records visualization in Python that makes use of a series of frames or time steps to reveal data points and exchange their positions or attributes over time. Each body represents a second in time, and the scatter plot is up to date for each frame, allowing you to peer traits, fluctuations, or moves in the information that may not be obvious in a static plot."
   ]
  },
  {
   "cell_type": "markdown",
   "metadata": {},
   "source": [
    "### Install Required Libraries"
   ]
  },
  {
   "cell_type": "code",
   "execution_count": 1,
   "metadata": {},
   "outputs": [
    {
     "name": "stdout",
     "output_type": "stream",
     "text": [
      "Requirement already satisfied: celluloid in c:\\users\\st35345\\anaconda3\\lib\\site-packages (0.2.0)\n",
      "Requirement already satisfied: matplotlib in c:\\users\\st35345\\anaconda3\\lib\\site-packages (from celluloid) (3.8.2)\n",
      "Requirement already satisfied: contourpy>=1.0.1 in c:\\users\\st35345\\anaconda3\\lib\\site-packages (from matplotlib->celluloid) (1.2.0)\n",
      "Requirement already satisfied: cycler>=0.10 in c:\\users\\st35345\\anaconda3\\lib\\site-packages (from matplotlib->celluloid) (0.10.0)\n",
      "Requirement already satisfied: fonttools>=4.22.0 in c:\\users\\st35345\\anaconda3\\lib\\site-packages (from matplotlib->celluloid) (4.25.0)\n",
      "Requirement already satisfied: kiwisolver>=1.3.1 in c:\\users\\st35345\\anaconda3\\lib\\site-packages (from matplotlib->celluloid) (1.3.1)\n",
      "Requirement already satisfied: numpy<2,>=1.21 in c:\\users\\st35345\\anaconda3\\lib\\site-packages (from matplotlib->celluloid) (1.22.4)\n",
      "Requirement already satisfied: packaging>=20.0 in c:\\users\\st35345\\anaconda3\\lib\\site-packages (from matplotlib->celluloid) (23.2)\n",
      "Requirement already satisfied: pillow>=8 in c:\\users\\st35345\\anaconda3\\lib\\site-packages (from matplotlib->celluloid) (9.0.1)\n",
      "Requirement already satisfied: pyparsing>=2.3.1 in c:\\users\\st35345\\anaconda3\\lib\\site-packages (from matplotlib->celluloid) (3.0.4)\n",
      "Requirement already satisfied: python-dateutil>=2.7 in c:\\users\\st35345\\anaconda3\\lib\\site-packages (from matplotlib->celluloid) (2.8.2)\n",
      "Requirement already satisfied: importlib-resources>=3.2.0 in c:\\users\\st35345\\anaconda3\\lib\\site-packages (from matplotlib->celluloid) (6.1.1)\n",
      "Requirement already satisfied: six in c:\\users\\st35345\\anaconda3\\lib\\site-packages (from cycler>=0.10->matplotlib->celluloid) (1.16.0)\n",
      "Requirement already satisfied: zipp>=3.1.0 in c:\\users\\st35345\\anaconda3\\lib\\site-packages (from importlib-resources>=3.2.0->matplotlib->celluloid) (3.6.0)\n"
     ]
    },
    {
     "name": "stderr",
     "output_type": "stream",
     "text": [
      "WARNING: Ignoring invalid distribution -atplotlib (c:\\users\\st35345\\anaconda3\\lib\\site-packages)\n",
      "WARNING: Ignoring invalid distribution -atplotlib (c:\\users\\st35345\\anaconda3\\lib\\site-packages)\n",
      "DEPRECATION: pyodbc 4.0.0-unsupported has a non-standard version number. pip 24.0 will enforce this behaviour change. A possible replacement is to upgrade to a newer version of pyodbc or contact the author to suggest that they release a version with a conforming version number. Discussion can be found at https://github.com/pypa/pip/issues/12063\n"
     ]
    }
   ],
   "source": [
    "!pip install celluloid"
   ]
  },
  {
   "cell_type": "markdown",
   "metadata": {},
   "source": [
    "### Import Libraries"
   ]
  },
  {
   "cell_type": "code",
   "execution_count": 10,
   "metadata": {},
   "outputs": [],
   "source": [
    "import matplotlib.pyplot as plt\n",
    "from matplotlib import cm\n",
    "import numpy as np\n",
    "from celluloid import Camera\n",
    "from IPython.display import HTML"
   ]
  },
  {
   "cell_type": "markdown",
   "metadata": {},
   "source": [
    "### Generate Initial Data"
   ]
  },
  {
   "cell_type": "code",
   "execution_count": 4,
   "metadata": {},
   "outputs": [],
   "source": [
    "# Number of data points\n",
    "numpoints = 10\n",
    "\n",
    "# Generate random initial data points\n",
    "points = np.random.random((2, numpoints))\n",
    "\n",
    "# Colors for the scatter plot\n",
    "colors = cm.rainbow(np.linspace(0, 1, numpoints))"
   ]
  },
  {
   "cell_type": "markdown",
   "metadata": {},
   "source": [
    "### Animation Loop"
   ]
  },
  {
   "cell_type": "code",
   "execution_count": 6,
   "metadata": {},
   "outputs": [
    {
     "data": {
      "image/png": "[encoded data removed]",
      "text/plain": [
       "<Figure size 432x288 with 1 Axes>"
      ]
     },
     "metadata": {
      "needs_background": "light"
     },
     "output_type": "display_data"
    }
   ],
   "source": [
    "\"\"\"\n",
    "Create a loop to generate frames for the animation. In each iteration:\n",
    "\n",
    "    1. Update the points array to simulate movement (e.g., by adding random displacements).\n",
    "    2. Create a scatter plot using plt.scatter.\n",
    "    3. Capture the frame using camera.snap().\n",
    "\"\"\"\n",
    "camera = Camera(plt.figure())\n",
    "for _ in range(100):\n",
    "    points += 0.1 * (np.random.random((2, numpoints)) - 0.5)\n",
    "    plt.scatter(*points, c=colors, s=100)\n",
    "    camera.snap()"
   ]
  },
  {
   "cell_type": "markdown",
   "metadata": {},
   "source": [
    "### Create the Animation"
   ]
  },
  {
   "cell_type": "code",
   "execution_count": 17,
   "metadata": {},
   "outputs": [],
   "source": [
    "# After the loop, use the captured frames from the camera object to create the animation\n",
    "anim = camera.animate(blit=True)"
   ]
  },
  {
   "cell_type": "markdown",
   "metadata": {},
   "source": [
    "### Display the inline animation"
   ]
  },
  {
   "cell_type": "code",
   "execution_count": 20,
   "metadata": {},
   "outputs": [
    {
     "data": {
      "text/html": [
       "<img src=\"scatter_plot_animation.gif\">"
      ],
      "text/plain": [
       "<IPython.core.display.HTML object>"
      ]
     },
     "execution_count": 20,
     "metadata": {},
     "output_type": "execute_result"
    }
   ],
   "source": [
    "# Save the animation as a GIF using PillowWriter\n",
    "anim.save('scatter_plot_animation.gif', writer='pillow')\n",
    "\n",
    "# Display the GIF inline in the notebook\n",
    "HTML('<img src=\"scatter_plot_animation.gif\">')"
   ]
  }
 ],
 "metadata": {
  "kernelspec": {
   "display_name": "base",
   "language": "python",
   "name": "python3"
  },
  "language_info": {
   "codemirror_mode": {
    "name": "ipython",
    "version": 3
   },
   "file_extension": ".py",
   "mimetype": "text/x-python",
   "name": "python",
   "nbconvert_exporter": "python",
   "pygments_lexer": "ipython3",
   "version": "3.9.7"
  }
 },
 "nbformat": 4,
 "nbformat_minor": 2
}
